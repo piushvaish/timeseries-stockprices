{
 "cells": [
  {
   "cell_type": "code",
   "execution_count": 1,
   "metadata": {},
   "outputs": [],
   "source": [
    "#! pip install pandas-datareader"
   ]
  },
  {
   "cell_type": "code",
   "execution_count": 2,
   "metadata": {},
   "outputs": [],
   "source": [
    "import os\n",
    "from datetime import datetime\n",
    "import pandas_datareader.data as web\n",
    "import configparser\n",
    "settings = configparser.ConfigParser()\n",
    "settings.read('../data/processed/config.ini')\n",
    "api_key = settings.get('AlphaVantage', 'api_key')\n"
   ]
  },
  {
   "cell_type": "code",
   "execution_count": 5,
   "metadata": {},
   "outputs": [],
   "source": [
    "start = datetime(2000, 1, 1)\n",
    "end = datetime.now()"
   ]
  },
  {
   "cell_type": "code",
   "execution_count": 6,
   "metadata": {},
   "outputs": [],
   "source": [
    "f = web.DataReader(\"UNH\", \"av-daily\", start=start,  end=end, api_key= api_key)"
   ]
  },
  {
   "cell_type": "code",
   "execution_count": 7,
   "metadata": {},
   "outputs": [
    {
     "data": {
      "text/html": [
       "<div>\n",
       "<style scoped>\n",
       "    .dataframe tbody tr th:only-of-type {\n",
       "        vertical-align: middle;\n",
       "    }\n",
       "\n",
       "    .dataframe tbody tr th {\n",
       "        vertical-align: top;\n",
       "    }\n",
       "\n",
       "    .dataframe thead th {\n",
       "        text-align: right;\n",
       "    }\n",
       "</style>\n",
       "<table border=\"1\" class=\"dataframe\">\n",
       "  <thead>\n",
       "    <tr style=\"text-align: right;\">\n",
       "      <th></th>\n",
       "      <th>open</th>\n",
       "      <th>high</th>\n",
       "      <th>low</th>\n",
       "      <th>close</th>\n",
       "      <th>volume</th>\n",
       "    </tr>\n",
       "  </thead>\n",
       "  <tbody>\n",
       "    <tr>\n",
       "      <th>2000-03-13</th>\n",
       "      <td>49.000</td>\n",
       "      <td>50.50</td>\n",
       "      <td>49.00</td>\n",
       "      <td>50.06</td>\n",
       "      <td>785300</td>\n",
       "    </tr>\n",
       "    <tr>\n",
       "      <th>2000-03-14</th>\n",
       "      <td>49.880</td>\n",
       "      <td>50.44</td>\n",
       "      <td>49.06</td>\n",
       "      <td>50.06</td>\n",
       "      <td>493700</td>\n",
       "    </tr>\n",
       "    <tr>\n",
       "      <th>2000-03-15</th>\n",
       "      <td>49.690</td>\n",
       "      <td>51.75</td>\n",
       "      <td>49.50</td>\n",
       "      <td>51.44</td>\n",
       "      <td>1609500</td>\n",
       "    </tr>\n",
       "    <tr>\n",
       "      <th>2000-03-16</th>\n",
       "      <td>50.620</td>\n",
       "      <td>53.19</td>\n",
       "      <td>49.75</td>\n",
       "      <td>52.12</td>\n",
       "      <td>1395500</td>\n",
       "    </tr>\n",
       "    <tr>\n",
       "      <th>2000-03-17</th>\n",
       "      <td>53.000</td>\n",
       "      <td>54.00</td>\n",
       "      <td>51.19</td>\n",
       "      <td>51.62</td>\n",
       "      <td>1208900</td>\n",
       "    </tr>\n",
       "    <tr>\n",
       "      <th>...</th>\n",
       "      <td>...</td>\n",
       "      <td>...</td>\n",
       "      <td>...</td>\n",
       "      <td>...</td>\n",
       "      <td>...</td>\n",
       "    </tr>\n",
       "    <tr>\n",
       "      <th>2020-03-09</th>\n",
       "      <td>264.465</td>\n",
       "      <td>281.44</td>\n",
       "      <td>259.24</td>\n",
       "      <td>273.44</td>\n",
       "      <td>8057145</td>\n",
       "    </tr>\n",
       "    <tr>\n",
       "      <th>2020-03-10</th>\n",
       "      <td>279.720</td>\n",
       "      <td>283.90</td>\n",
       "      <td>272.50</td>\n",
       "      <td>280.00</td>\n",
       "      <td>7363915</td>\n",
       "    </tr>\n",
       "    <tr>\n",
       "      <th>2020-03-11</th>\n",
       "      <td>274.760</td>\n",
       "      <td>285.24</td>\n",
       "      <td>273.26</td>\n",
       "      <td>277.78</td>\n",
       "      <td>7724616</td>\n",
       "    </tr>\n",
       "    <tr>\n",
       "      <th>2020-03-12</th>\n",
       "      <td>260.000</td>\n",
       "      <td>272.23</td>\n",
       "      <td>250.00</td>\n",
       "      <td>250.41</td>\n",
       "      <td>10361301</td>\n",
       "    </tr>\n",
       "    <tr>\n",
       "      <th>2020-03-13</th>\n",
       "      <td>260.990</td>\n",
       "      <td>273.22</td>\n",
       "      <td>242.27</td>\n",
       "      <td>272.04</td>\n",
       "      <td>9052890</td>\n",
       "    </tr>\n",
       "  </tbody>\n",
       "</table>\n",
       "<p>5033 rows × 5 columns</p>\n",
       "</div>"
      ],
      "text/plain": [
       "               open    high     low   close    volume\n",
       "2000-03-13   49.000   50.50   49.00   50.06    785300\n",
       "2000-03-14   49.880   50.44   49.06   50.06    493700\n",
       "2000-03-15   49.690   51.75   49.50   51.44   1609500\n",
       "2000-03-16   50.620   53.19   49.75   52.12   1395500\n",
       "2000-03-17   53.000   54.00   51.19   51.62   1208900\n",
       "...             ...     ...     ...     ...       ...\n",
       "2020-03-09  264.465  281.44  259.24  273.44   8057145\n",
       "2020-03-10  279.720  283.90  272.50  280.00   7363915\n",
       "2020-03-11  274.760  285.24  273.26  277.78   7724616\n",
       "2020-03-12  260.000  272.23  250.00  250.41  10361301\n",
       "2020-03-13  260.990  273.22  242.27  272.04   9052890\n",
       "\n",
       "[5033 rows x 5 columns]"
      ]
     },
     "execution_count": 7,
     "metadata": {},
     "output_type": "execute_result"
    }
   ],
   "source": [
    "f"
   ]
  },
  {
   "cell_type": "code",
   "execution_count": null,
   "metadata": {},
   "outputs": [],
   "source": []
  }
 ],
 "metadata": {
  "kernelspec": {
   "display_name": "Python [conda env:covid] *",
   "language": "python",
   "name": "conda-env-covid-py"
  },
  "language_info": {
   "codemirror_mode": {
    "name": "ipython",
    "version": 3
   },
   "file_extension": ".py",
   "mimetype": "text/x-python",
   "name": "python",
   "nbconvert_exporter": "python",
   "pygments_lexer": "ipython3",
   "version": "3.7.3"
  }
 },
 "nbformat": 4,
 "nbformat_minor": 2
}
