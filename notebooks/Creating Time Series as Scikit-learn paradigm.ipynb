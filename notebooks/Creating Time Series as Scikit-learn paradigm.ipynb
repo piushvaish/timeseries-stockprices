{
 "cells": [
  {
   "cell_type": "markdown",
   "metadata": {},
   "source": [
    "* http://www.ethanrosenthal.com/2018/01/28/time-series-for-scikit-learn-people-part1/"
   ]
  },
  {
   "cell_type": "markdown",
   "metadata": {},
   "source": [
    "In general, a learning problem considers a set of n samples of data and then tries to predict properties of unknown data.\n",
    "If each sample is more than a single number and, for instance, a multi-dimensional entry (aka multivariate data), it is\n",
    "said to have several attributes or features.\n",
    "\n",
    "Training set and testing set\n",
    "Machine learning is about learning some properties of a data set and then testing those properties against another\n",
    "data set. A common practice in machine learning is to evaluate an algorithm by splitting a data set into two. We\n",
    "call one of those sets the training set, on which we learn some properties; we call the other set the testing set, on\n",
    "which we test the learned properties.\n",
    "\n",
    "In the case of the digits dataset, the task is to predict, given an image, which digit it represents. We are given samples\n",
    "of each of the 10 possible classes (the digits zero through nine) on which we fit an estimator to be able to predict the\n",
    "classes to which unseen samples belong.\n",
    "\n",
    "Data Representation in Scikit-Learn\n",
    "Machine learning is about creating models from data: for that reason, we’ll start by discussing how data can be represented in order to be understood by the computer. The best way to think about data within Scikit-Learn is in terms of tables of data.\n",
    "\n",
    "Data as table\n",
    "A basic table is a two-dimensional grid of data, in which the rows represent individual elements of the dataset, and the columns represent quantities related to each of these elements.\n",
    "\n",
    "Here each row of the data refers to a single observed flower, and the number of rows is the total number of flowers in the dataset. In general, we will refer to the rows of the matrix as samples, and the number of rows as n_samples.\n",
    "\n",
    "Likewise, each column of the data refers to a particular quantitative piece of information that describes each sample. In general, we will refer to the columns of the matrix as features, and the number of columns as n_features.\n",
    "\n",
    "Features matrix\n",
    "This table layout makes clear that the information can be thought of as a two-dimensional numerical array or matrix, which we will call the features matrix. By convention, this features matrix is often stored in a variable named X. The features matrix is assumed to be two-dimensional, with shape [n_samples, n_features], and is most often contained in a NumPy array or a Pandas DataFrame, though some Scikit-Learn models also accept SciPy sparse matrices.\n",
    "\n",
    "The samples (i.e., rows) always refer to the individual objects described by the dataset. For example, the sample might be a flower, a person, a document, an image, a sound file, a video, an astronomical object, or anything else you can describe with a set of quantitative measurements.\n",
    "\n",
    "The features (i.e., columns) always refer to the distinct observations that describe each sample in a quantitative manner. Features are generally real-valued, but may be Boolean or discrete-valued in some cases.\n",
    "\n",
    "Target array\n",
    "In addition to the feature matrix X, we also generally work with a label or target array, which by convention we will usually call y. The target array is usually one dimensional, with length n_samples, and is generally contained in a NumPy array or Pandas Series. The target array may have continuous numerical values, or discrete classes/labels. While some Scikit-Learn estimators do handle multiple target values in the form of a two-dimensional, [n_samples, n_targets] target array, we will primarily be working with the common case of a one-dimensional target array.\n",
    "\n",
    "Often one point of confusion is how the target array differs from the other features columns. The distinguishing feature of the target array is that it is usually the quantity we want to predict from the data: in statistical terms, it is the dependent variable. For example, in the preceding data we may wish to construct a model that can predict the species of flower based on the other measurements; in this case, the species column would be considered the feature.\n"
   ]
  },
  {
   "cell_type": "code",
   "execution_count": 27,
   "metadata": {},
   "outputs": [
    {
     "name": "stdout",
     "output_type": "stream",
     "text": [
      "Collecting skits\n",
      "  Downloading https://files.pythonhosted.org/packages/57/f7/00648e28f0e8491352f67db46334f9fd51faeecde920ac452ad16e90d7f3/skits-0.1.2-py3-none-any.whl\n",
      "Requirement already satisfied: scikit-learn in c:\\users\\piush\\appdata\\local\\continuum\\anaconda3\\envs\\covid\\lib\\site-packages (from skits) (0.21.2)\n",
      "Requirement already satisfied: numpy in c:\\users\\piush\\appdata\\local\\continuum\\anaconda3\\envs\\covid\\lib\\site-packages (from skits) (1.16.4)\n",
      "Requirement already satisfied: joblib>=0.11 in c:\\users\\piush\\appdata\\local\\continuum\\anaconda3\\envs\\covid\\lib\\site-packages (from scikit-learn->skits) (0.13.2)\n",
      "Requirement already satisfied: scipy>=0.17.0 in c:\\users\\piush\\appdata\\local\\continuum\\anaconda3\\envs\\covid\\lib\\site-packages (from scikit-learn->skits) (1.4.1)\n",
      "Installing collected packages: skits\n",
      "Successfully installed skits-0.1.2\n"
     ]
    }
   ],
   "source": [
    "! pip install skits"
   ]
  },
  {
   "cell_type": "code",
   "execution_count": 15,
   "metadata": {},
   "outputs": [],
   "source": [
    "import pandas as pd\n",
    "import numpy as np\n",
    "import seaborn as sns # advanced vizs\n",
    "import matplotlib.pyplot as plt\n",
    "import matplotlib.dates as dates\n",
    "from matplotlib.patches import Rectangle\n",
    "from matplotlib.pyplot import figure\n",
    "from matplotlib.pyplot import suptitle\n",
    "import matplotlib.style as style\n",
    "from IPython.display import display, HTML\n",
    "import warnings\n",
    "%matplotlib inline\n",
    "%config InlineBackend.figure_format = 'png' #set 'png' here when working on notebook\n",
    "warnings.filterwarnings('ignore') \n",
    "pd.set_option('display.width',1000, 'display.max_rows',200, 'display.max_columns',900,'max_colwidth',1000)\n",
    "# statistics\n",
    "from statsmodels.distributions.empirical_distribution import ECDF\n",
    "\n",
    "# time series analysis\n",
    "from statsmodels.tsa.seasonal import seasonal_decompose\n",
    "from statsmodels.graphics.tsaplots import plot_acf, plot_pacf\n",
    "font = {'family': 'Verdana',\n",
    "        'weight': 'normal'}\n",
    "plt.rc('font', **font)"
   ]
  },
  {
   "cell_type": "code",
   "execution_count": 16,
   "metadata": {},
   "outputs": [],
   "source": [
    "# create time series dataframe except a region\n",
    "def create_dataframe(file, region):\n",
    "    df = pd.read_csv(file)\n",
    "    df1 = df[df['Country/Region'] != region]\n",
    "    df1.drop(['Province/State', 'Country/Region','Lat', 'Long'], axis = 1, inplace = True)\n",
    "    df2 = df1.sum()  \n",
    "    return df2"
   ]
  },
  {
   "cell_type": "code",
   "execution_count": 17,
   "metadata": {},
   "outputs": [],
   "source": [
    "confirmed = create_dataframe(\"../data/raw/COVID-19/csse_covid_19_data/csse_covid_19_time_series/time_series_19-covid-Confirmed.csv\",\"Mainland China\")\n",
    "death = create_dataframe(\"../data/raw/COVID-19/csse_covid_19_data/csse_covid_19_time_series/time_series_19-covid-Deaths.csv\",\"Mainland China\")\n",
    "recovered = create_dataframe(\"../data/raw/COVID-19/csse_covid_19_data/csse_covid_19_time_series/time_series_19-covid-Recovered.csv\",\"Mainland China\")"
   ]
  },
  {
   "cell_type": "code",
   "execution_count": 18,
   "metadata": {},
   "outputs": [],
   "source": [
    "y = confirmed.to_frame().reset_index()\n",
    "y.columns =['index','count']"
   ]
  },
  {
   "cell_type": "code",
   "execution_count": 19,
   "metadata": {},
   "outputs": [],
   "source": [
    "y['index'] = pd.to_datetime(y['index'])"
   ]
  },
  {
   "cell_type": "code",
   "execution_count": 20,
   "metadata": {},
   "outputs": [],
   "source": [
    "y.set_index(\"index\", inplace=True)"
   ]
  },
  {
   "cell_type": "markdown",
   "metadata": {},
   "source": [
    "Excellent, we have our time series. What now? Let’s think about what we actually want to do with it. To keep things simple, let’s say that we want to be able to predict the next value in the time series. As an example, if it was noon (i.e. 12:00 PM) on May 2nd, we would be trying to predict the number of bikes available at 12:05 PM, since our time series is in periods of 5 minutes. Visually, this looks like the following:"
   ]
  },
  {
   "cell_type": "code",
   "execution_count": 21,
   "metadata": {},
   "outputs": [
    {
     "data": {
      "text/html": [
       "<div>\n",
       "<style scoped>\n",
       "    .dataframe tbody tr th:only-of-type {\n",
       "        vertical-align: middle;\n",
       "    }\n",
       "\n",
       "    .dataframe tbody tr th {\n",
       "        vertical-align: top;\n",
       "    }\n",
       "\n",
       "    .dataframe thead th {\n",
       "        text-align: right;\n",
       "    }\n",
       "</style>\n",
       "<table border=\"1\" class=\"dataframe\">\n",
       "  <thead>\n",
       "    <tr style=\"text-align: right;\">\n",
       "      <th></th>\n",
       "      <th>count</th>\n",
       "    </tr>\n",
       "    <tr>\n",
       "      <th>index</th>\n",
       "      <th></th>\n",
       "    </tr>\n",
       "  </thead>\n",
       "  <tbody>\n",
       "    <tr>\n",
       "      <th>2020-01-22</th>\n",
       "      <td>8.0</td>\n",
       "    </tr>\n",
       "    <tr>\n",
       "      <th>2020-01-23</th>\n",
       "      <td>14.0</td>\n",
       "    </tr>\n",
       "    <tr>\n",
       "      <th>2020-01-24</th>\n",
       "      <td>25.0</td>\n",
       "    </tr>\n",
       "    <tr>\n",
       "      <th>2020-01-25</th>\n",
       "      <td>35.0</td>\n",
       "    </tr>\n",
       "    <tr>\n",
       "      <th>2020-01-26</th>\n",
       "      <td>56.0</td>\n",
       "    </tr>\n",
       "  </tbody>\n",
       "</table>\n",
       "</div>"
      ],
      "text/plain": [
       "            count\n",
       "index            \n",
       "2020-01-22    8.0\n",
       "2020-01-23   14.0\n",
       "2020-01-24   25.0\n",
       "2020-01-25   35.0\n",
       "2020-01-26   56.0"
      ]
     },
     "execution_count": 21,
     "metadata": {},
     "output_type": "execute_result"
    }
   ],
   "source": [
    "y.head()"
   ]
  },
  {
   "cell_type": "code",
   "execution_count": 22,
   "metadata": {},
   "outputs": [
    {
     "data": {
      "image/png": "[encoded data removed]",
      "text/plain": [
       "<Figure size 432x288 with 1 Axes>"
      ]
     },
     "metadata": {
      "needs_background": "light"
     },
     "output_type": "display_data"
    }
   ],
   "source": [
    "known = y.loc['2020-01-22':'2020-02-27']\n",
    "unknown = y.loc['2020-02-28':'2020-03-06']\n",
    "to_predict = y.loc['2020-03-01':'2020-03-01']\n",
    "\n",
    "fig, ax = plt.subplots();\n",
    "known.plot(ax=ax, c='c', marker='o', zorder=3);\n",
    "unknown.plot(ax=ax, c='grey', alpha=0.5);\n",
    "to_predict.plot(ax=ax, c='r', marker='o', markersize=16,\n",
    "                linestyle='');\n",
    "\n",
    "ax.legend(['known', 'future', 'value to predict']);\n",
    "ax.set_ylabel('count');"
   ]
  },
  {
   "cell_type": "markdown",
   "metadata": {},
   "source": [
    "Now that we have framed our problem in terms of what we know and what we want to predict, we walk back from whence we came towards ol’ machine learning. In time series, instead of creating a bunch of features to input into our model, we instead use the historical, known values of our time series as “features” to input into a model. The future value of the time series that we want to predict is then our target label. Mathematically, we will think of \\textbf{X}X as our “feature matrix” or “design matrix” from machine learning. We would like to approximate yy with \\hat{y} \n",
    "y\n",
    "^\n",
    "​\t\n",
    " , and we’ll learn a function \\hat{y} = f(\\textbf{X}) \n",
    "y\n",
    "^\n",
    "​\t\n",
    " =f(X) in order to do this. Our \\textbf{X}X matrix consists of previous values of yy, our time series. Thus, at some point in time tt,\n",
    "\n",
    "\\mathbf{X}_{t} = \\mathbf{y}_{t^{\\prime}\\lt t}\n",
    "X \n",
    "t\n",
    "​\t\n",
    " =y \n",
    "t \n",
    "′\n",
    " <t\n",
    "​\t\n",
    " \n",
    "where I have somewhat abused notation via the following\n",
    "\n",
    "\\mathbf{y}_{t^{\\prime}\\lt t} \\equiv \\big(y_{1}, y_{2}, \\ldots, y_{t-2}, y_{t-1} \\big)\n",
    "y \n",
    "t \n",
    "′\n",
    " <t\n",
    "​\t\n",
    " ≡(y \n",
    "1\n",
    "​\t\n",
    " ,y \n",
    "2\n",
    "​\t\n",
    " ,…,y \n",
    "t−2\n",
    "​\t\n",
    " ,y \n",
    "t−1\n",
    "​\t\n",
    " )\n",
    "where the portion on the right denotes a vector. Consequently, if we want to predict yy at time tt, then it will be\n",
    "\n",
    "\\hat{y}_{t} = f(\\mathbf{X}_{t})\n",
    "y\n",
    "^\n",
    "​\t\n",
    "  \n",
    "t\n",
    "​\t\n",
    " =f(X \n",
    "t\n",
    "​\t\n",
    " )\n",
    "\\hat{y}_{t} = f(\\mathbf{y}_{t^{\\prime}\\lt t-1})\n",
    "y\n",
    "^\n",
    "​\t\n",
    "  \n",
    "t\n",
    "​\t\n",
    " =f(y \n",
    "t \n",
    "′\n",
    " <t−1\n",
    "​\t\n",
    " )\n",
    "Note that we cannot use future values to also predict the future. This is why we have to use the t-1t−1 value of \\textbf{X}X to predict y_{t}y \n",
    "t\n",
    "​\t\n",
    " . In our graph from above, tt is 12:05 PM, the time that we are trying to predict. \\textbf{X}_{t-1}X \n",
    "t−1\n",
    "​\t\n",
    "  is the “known” cyan curve, and y_{t}y \n",
    "t\n",
    "​\t\n",
    "  is the “value to predict” red marker.\n",
    "\n",
    "Building the X matrix\n",
    "Now that we’re able to think of time series in the comfortable form of \\hat{y} = f(\\mathbf{X}) \n",
    "y\n",
    "^\n",
    "​\t\n",
    " =f(X), how do we build up the full design matrix \\textbf{X}X? We would like to think of things in the scikit-learn paradigm, where we want to fit a design matrix \\textbf{X}X in which each column is a feature dimension and each row is a separate “sample” or “data point”. In our case, each column of \\textbf{X}X will map to a previous value of yy. We then have to think of how to build multiple samples.\n",
    "\n",
    "Before we build samples, though, let’s introduce the concept of a window. Recall that \\mathbf{X}_{t} = \\mathbf{y}_{t^{\\prime}\\lt t}X \n",
    "t\n",
    "​\t\n",
    " =y \n",
    "t \n",
    "′\n",
    " <t\n",
    "​\t\n",
    " . We could use all values of yy up until time tt, but this would quickly get unwieldy for large time series. Instead, we can consider some finite number of yy values preceding tt. This finite range is our window. For a window size ww, \\mathbf{X}_{t} = \\big(y_{t-w}, y_{t-w+1},\\ldots, y_{t-2}, y_{t-1} \\big)X \n",
    "t\n",
    "​\t\n",
    " =(y \n",
    "t−w\n",
    "​\t\n",
    " ,y \n",
    "t−w+1\n",
    "​\t\n",
    " ,…,y \n",
    "t−2\n",
    "​\t\n",
    " ,y \n",
    "t−1\n",
    "​\t\n",
    " ).\n",
    "\n",
    "We can now build up our data samples. We will chop our time series into a bunch of samples where each \\mathbf{X}_{t}X \n",
    "t\n",
    "​\t\n",
    "  is a length ww vector, and our targets are y_{t}y \n",
    "t\n",
    "​\t\n",
    " . We’ll again do this graphically. We take a window size of 5, and create 8 data points near noon on May 2nd. Each line plotted corresponds to a different row in our \\mathbf{X}X matrix, and the lines are vertically offset for clarity."
   ]
  },
  {
   "cell_type": "code",
   "execution_count": 25,
   "metadata": {},
   "outputs": [
    {
     "data": {
      "text/plain": [
       "29"
      ]
     },
     "execution_count": 25,
     "metadata": {},
     "output_type": "execute_result"
    }
   ],
   "source": [
    "np.where(y.index == '2020-02-20')[0][0]"
   ]
  },
  {
   "cell_type": "code",
   "execution_count": 23,
   "metadata": {},
   "outputs": [
    {
     "data": {
      "image/png": "[encoded data removed]",
      "text/plain": [
       "<Figure size 432x288 with 1 Axes>"
      ]
     },
     "metadata": {
      "needs_background": "light"
     },
     "output_type": "display_data"
    }
   ],
   "source": [
    "fig, ax = plt.subplots();\n",
    "\n",
    "start = np.where(y.index == '2020-01-22')[0][0]\n",
    "middle = np.where(y.index == '2020-02-20')[0][0]\n",
    "end = np.where(y.index == '2020-03-06')[0][0]\n",
    "\n",
    "window = 5\n",
    "\n",
    "for i in range(8):\n",
    "\n",
    "    full = y.iloc[start:end]\n",
    "    train = y.iloc[middle - i - window:middle - i ]\n",
    "    predict = y.iloc[middle - i:middle - i + 1]\n",
    "\n",
    "    (full + 2*i).plot(ax=ax, c='grey', alpha=0.5);\n",
    "    (train + 2*i).plot(ax=ax, c='c', markersize=4,\n",
    "                       marker='o')\n",
    "    (predict + 2*i).plot(ax=ax, c='r', markersize=8,\n",
    "                         marker='o', linestyle='')\n",
    "\n",
    "\n",
    "ax.get_yaxis().set_ticks([]);\n",
    "ax.legend(['full time series',\n",
    "           '$\\mathbf{X}$',\n",
    "           '$y$'],\n",
    "          bbox_to_anchor=(1, 1));"
   ]
  },
  {
   "cell_type": "code",
   "execution_count": 26,
   "metadata": {},
   "outputs": [
    {
     "data": {
      "text/html": [
       "<div>\n",
       "<style scoped>\n",
       "    .dataframe tbody tr th:only-of-type {\n",
       "        vertical-align: middle;\n",
       "    }\n",
       "\n",
       "    .dataframe tbody tr th {\n",
       "        vertical-align: top;\n",
       "    }\n",
       "\n",
       "    .dataframe thead th {\n",
       "        text-align: right;\n",
       "    }\n",
       "</style>\n",
       "<table border=\"1\" class=\"dataframe\">\n",
       "  <thead>\n",
       "    <tr style=\"text-align: right;\">\n",
       "      <th></th>\n",
       "      <th>count</th>\n",
       "    </tr>\n",
       "    <tr>\n",
       "      <th>index</th>\n",
       "      <th></th>\n",
       "    </tr>\n",
       "  </thead>\n",
       "  <tbody>\n",
       "    <tr>\n",
       "      <th>2020-02-10</th>\n",
       "      <td>457.0</td>\n",
       "    </tr>\n",
       "    <tr>\n",
       "      <th>2020-02-11</th>\n",
       "      <td>476.0</td>\n",
       "    </tr>\n",
       "    <tr>\n",
       "      <th>2020-02-12</th>\n",
       "      <td>523.0</td>\n",
       "    </tr>\n",
       "    <tr>\n",
       "      <th>2020-02-13</th>\n",
       "      <td>538.0</td>\n",
       "    </tr>\n",
       "    <tr>\n",
       "      <th>2020-02-14</th>\n",
       "      <td>595.0</td>\n",
       "    </tr>\n",
       "  </tbody>\n",
       "</table>\n",
       "</div>"
      ],
      "text/plain": [
       "            count\n",
       "index            \n",
       "2020-02-10  457.0\n",
       "2020-02-11  476.0\n",
       "2020-02-12  523.0\n",
       "2020-02-13  538.0\n",
       "2020-02-14  595.0"
      ]
     },
     "execution_count": 26,
     "metadata": {},
     "output_type": "execute_result"
    }
   ],
   "source": [
    "y.iloc[29 - 5 - 5:29 - 5 ]"
   ]
  },
  {
   "cell_type": "code",
   "execution_count": null,
   "metadata": {},
   "outputs": [],
   "source": []
  }
 ],
 "metadata": {
  "kernelspec": {
   "display_name": "Python [conda env:covid] *",
   "language": "python",
   "name": "conda-env-covid-py"
  },
  "language_info": {
   "codemirror_mode": {
    "name": "ipython",
    "version": 3
   },
   "file_extension": ".py",
   "mimetype": "text/x-python",
   "name": "python",
   "nbconvert_exporter": "python",
   "pygments_lexer": "ipython3",
   "version": "3.7.3"
  },
  "toc": {
   "base_numbering": 1,
   "nav_menu": {},
   "number_sections": true,
   "sideBar": true,
   "skip_h1_title": false,
   "title_cell": "Table of Contents",
   "title_sidebar": "Contents",
   "toc_cell": false,
   "toc_position": {},
   "toc_section_display": true,
   "toc_window_display": false
  }
 },
 "nbformat": 4,
 "nbformat_minor": 2
}
